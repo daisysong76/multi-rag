{
  "nbformat": 4,
  "nbformat_minor": 0,
  "metadata": {
    "colab": {
      "provenance": [],
      "authorship_tag": "ABX9TyNWGtpJM0YGGc8RTGjYQlzJ",
      "include_colab_link": true
    },
    "kernelspec": {
      "name": "python3",
      "display_name": "Python 3"
    },
    "language_info": {
      "name": "python"
    }
  },
  "cells": [
    {
      "cell_type": "markdown",
      "metadata": {
        "id": "view-in-github",
        "colab_type": "text"
      },
      "source": [
        "<a href=\"https://colab.research.google.com/github/sugarforever/Advanced-RAG/blob/main/04_langchain_per_user_retrieval.ipynb\" target=\"_parent\"><img src=\"https://colab.research.google.com/assets/colab-badge.svg\" alt=\"Open In Colab\"/></a>"
      ]
    },
    {
      "cell_type": "code",
      "execution_count": null,
      "metadata": {
        "id": "6ygznopTYdrQ"
      },
      "outputs": [],
      "source": [
        "!pip install openai langchain pinecone-client pypdf tiktoken -q -U"
      ]
    },
    {
      "cell_type": "code",
      "source": [
        "from google.colab import userdata\n",
        "\n",
        "\n",
        "PINECONE_API_KEY=userdata.get('PINECONE_API_KEY')\n",
        "PINECONE_ENVIRONMENT=\"us-west4-gcp\"\n",
        "PINECONE_INDEX=\"multi-users\"\n",
        "\n",
        "OPENAI_API_KEY=userdata.get('OPENAI_API_KEY')\n",
        "\n",
        "import os\n",
        "\n",
        "os.environ['OPENAI_API_KEY'] = OPENAI_API_KEY"
      ],
      "metadata": {
        "id": "ipfSp3H4bLpK"
      },
      "execution_count": null,
      "outputs": []
    },
    {
      "cell_type": "code",
      "source": [
        "import pinecone\n",
        "from langchain.embeddings.openai import OpenAIEmbeddings\n",
        "from langchain.vectorstores import Pinecone"
      ],
      "metadata": {
        "id": "BvMjqf7ZZNpn"
      },
      "execution_count": 27,
      "outputs": []
    },
    {
      "cell_type": "code",
      "source": [
        "pinecone.init(api_key=PINECONE_API_KEY, environment=PINECONE_ENVIRONMENT)\n",
        "index = pinecone.Index(PINECONE_INDEX)\n",
        "\n",
        "embeddings = OpenAIEmbeddings(api_key=OPENAI_API_KEY)\n",
        "vectorstore = Pinecone(index, embeddings, \"text\")"
      ],
      "metadata": {
        "id": "brRWntkRZuEj"
      },
      "execution_count": 28,
      "outputs": []
    },
    {
      "cell_type": "code",
      "source": [
        "!wget -O uniswap-v3.pdf https://uniswap.org/whitepaper-v3.pdf"
      ],
      "metadata": {
        "colab": {
          "base_uri": "https://localhost:8080/"
        },
        "id": "MTiI8aH7abGP",
        "outputId": "8c665539-8908-4cbc-ad87-2af816fdd390"
      },
      "execution_count": 29,
      "outputs": [
        {
          "output_type": "stream",
          "name": "stdout",
          "text": [
            "--2023-12-27 23:45:39--  https://uniswap.org/whitepaper-v3.pdf\n",
            "Resolving uniswap.org (uniswap.org)... 104.18.22.54, 104.18.23.54, 2606:4700::6812:1736, ...\n",
            "Connecting to uniswap.org (uniswap.org)|104.18.22.54|:443... connected.\n",
            "HTTP request sent, awaiting response... 200 OK\n",
            "Length: 1500865 (1.4M) [application/pdf]\n",
            "Saving to: ‘uniswap-v3.pdf’\n",
            "\n",
            "\runiswap-v3.pdf        0%[                    ]       0  --.-KB/s               \runiswap-v3.pdf      100%[===================>]   1.43M  --.-KB/s    in 0.01s   \n",
            "\n",
            "2023-12-27 23:45:39 (137 MB/s) - ‘uniswap-v3.pdf’ saved [1500865/1500865]\n",
            "\n"
          ]
        }
      ]
    },
    {
      "cell_type": "code",
      "source": [
        "!wget -O electronic-health-records.pdf https://med.stanford.edu/content/dam/sm/ehr/documents/SM-EHR-White-Papers_v12.pdf"
      ],
      "metadata": {
        "colab": {
          "base_uri": "https://localhost:8080/"
        },
        "id": "NvuEc1u4bEiZ",
        "outputId": "15a37cd2-a087-4151-d218-19e68e2ee37d"
      },
      "execution_count": 30,
      "outputs": [
        {
          "output_type": "stream",
          "name": "stdout",
          "text": [
            "--2023-12-27 23:45:42--  https://med.stanford.edu/content/dam/sm/ehr/documents/SM-EHR-White-Papers_v12.pdf\n",
            "Resolving med.stanford.edu (med.stanford.edu)... 34.117.178.225\n",
            "Connecting to med.stanford.edu (med.stanford.edu)|34.117.178.225|:443... connected.\n",
            "HTTP request sent, awaiting response... 200 OK\n",
            "Length: 814908 (796K) [application/pdf]\n",
            "Saving to: ‘electronic-health-records.pdf’\n",
            "\n",
            "electronic-health-r 100%[===================>] 795.81K  3.94MB/s    in 0.2s    \n",
            "\n",
            "2023-12-27 23:45:42 (3.94 MB/s) - ‘electronic-health-records.pdf’ saved [814908/814908]\n",
            "\n"
          ]
        }
      ]
    },
    {
      "cell_type": "code",
      "source": [
        "USER_1 = \"Alex\"\n",
        "USER_2 = \"Lucy\""
      ],
      "metadata": {
        "id": "jHzEOVi8bb82"
      },
      "execution_count": 31,
      "outputs": []
    },
    {
      "cell_type": "markdown",
      "source": [
        "Lucy will create a chatbot with Uniswap v3 whitepaper - **uniswap-v3.pdf**.\n",
        "\n",
        "Alex will do it with electronic health records report - **electronic-health-records.pdf**."
      ],
      "metadata": {
        "id": "9Yv-FN-nbjRm"
      }
    },
    {
      "cell_type": "code",
      "source": [
        "from langchain.document_loaders import PyPDFLoader\n",
        "\n",
        "loader = PyPDFLoader(\"uniswap-v3.pdf\")\n",
        "documents = loader.load_and_split()\n",
        "\n",
        "vectorstore.add_documents(documents, namespace=USER_2)"
      ],
      "metadata": {
        "colab": {
          "base_uri": "https://localhost:8080/"
        },
        "id": "ID2hhSYTbbMH",
        "outputId": "c0f9ec65-17ef-4f45-86a3-6437ad13a288"
      },
      "execution_count": 32,
      "outputs": [
        {
          "output_type": "execute_result",
          "data": {
            "text/plain": [
              "['d215b4cc-1334-4da9-8cb4-49509c941276',\n",
              " 'd4a9a6c3-2928-45b6-be31-416994b0822a',\n",
              " 'f6b23825-0047-4301-bb4f-cd1bd7bec624',\n",
              " '9eeb44ab-e896-43eb-ae62-c771f1d7a17c',\n",
              " '49c32905-1feb-4553-a95d-87d03c0693c8',\n",
              " '1226e79d-e955-4503-9fa3-c8ee29595b99',\n",
              " '58332bcd-dd8e-45e1-9003-14cf3e966831',\n",
              " 'c15280eb-a408-4c2f-99db-117918231c95',\n",
              " 'df6279b2-33d3-462f-8b5a-55eb53774565',\n",
              " 'ea4260de-c956-4b1a-8db7-9ca45da5dbcf',\n",
              " '3d24b427-f3ef-48e8-9479-dc1456d41a9f',\n",
              " '8372c6e2-77bd-44d9-8f84-56f938188a7a',\n",
              " '07151d70-cfa7-4ced-a4be-f37d9958603e',\n",
              " '1c5f29f6-6e0a-4409-8aa9-893ccd3baf3e']"
            ]
          },
          "metadata": {},
          "execution_count": 32
        }
      ]
    },
    {
      "cell_type": "code",
      "source": [
        "loader = PyPDFLoader(\"electronic-health-records.pdf\")\n",
        "documents = loader.load_and_split()\n",
        "\n",
        "vectorstore.add_documents(documents, namespace=USER_1)"
      ],
      "metadata": {
        "colab": {
          "base_uri": "https://localhost:8080/"
        },
        "id": "AZ8fcjlzcyg_",
        "outputId": "093166d4-5471-4388-8e5b-0216c2e30a5a"
      },
      "execution_count": 33,
      "outputs": [
        {
          "output_type": "execute_result",
          "data": {
            "text/plain": [
              "['a63b10f9-80dd-414b-bdfa-4935a516e269',\n",
              " '63b5819a-e975-4fb9-beef-a978f3a2a4ac',\n",
              " 'e8662ce7-f2b9-4fd3-92a5-a714233bee49',\n",
              " '46ca36e2-3b5d-46a2-a0ac-ec4221f26334',\n",
              " 'e76b404f-d7b1-48ec-aae3-5f8b0f9fca2a',\n",
              " 'd2bc4d7d-1958-4f83-bfed-95f545f8b9cc',\n",
              " '055e37fa-979c-443b-851f-d98df790ec5d',\n",
              " 'c15a4322-3e35-4ae3-b96b-f568068a2e29',\n",
              " '36433b35-e0b2-4371-a9b9-69aae8740cba',\n",
              " '925b3caf-9ddc-4152-8cd8-72977a076cc3',\n",
              " '0ef3f844-171d-4a57-b816-f8c997c89bfc',\n",
              " 'b915f8d3-d012-4961-b5f9-bd62fc093315',\n",
              " 'd10101f8-79c2-4b4f-92b7-e1dec20a5fc0',\n",
              " '16130b73-fe42-4c06-b428-4d9484f2d961',\n",
              " 'f3a8e510-c61e-4e93-bcc1-f69316605d2a',\n",
              " 'de09243b-a51f-4aac-ad23-d8ff13fd6dac',\n",
              " '6cffaec1-64f5-4389-8367-93dc6719dce3',\n",
              " '433cbc43-8dd3-429e-8da3-f39521d92ad8',\n",
              " '5d0d1691-4324-40ff-b546-29a1383c1e9d',\n",
              " '302f928e-455b-4d79-a2d6-ff7cd4e800db',\n",
              " '49ad14dc-0789-4e26-9bc2-d466fa07d829']"
            ]
          },
          "metadata": {},
          "execution_count": 33
        }
      ]
    },
    {
      "cell_type": "code",
      "source": [
        "question = \"What is uniswap?\""
      ],
      "metadata": {
        "id": "5prPmGaIdJje"
      },
      "execution_count": 34,
      "outputs": []
    },
    {
      "cell_type": "code",
      "source": [
        "from langchain.schema.vectorstore import VectorStoreRetriever\n",
        "from langchain.llms import OpenAI\n",
        "from langchain.memory import ConversationBufferMemory\n",
        "from langchain.chains.conversational_retrieval.prompts import QA_PROMPT\n",
        "from langchain.chains.question_answering import load_qa_chain\n",
        "from langchain.chains import ConversationalRetrievalChain"
      ],
      "metadata": {
        "id": "Iun__di5c-vr"
      },
      "execution_count": 35,
      "outputs": []
    },
    {
      "cell_type": "markdown",
      "source": [
        "USER_1 Alex persisted electronic-health-records.pdf.\n",
        "\n",
        "USER_2 Lucy persisted uniswap-v3.pdf.\n"
      ],
      "metadata": {
        "id": "5hf7GC36b3Oj"
      }
    },
    {
      "cell_type": "code",
      "source": [
        "retriever = vectorstore.as_retriever(search_type=\"similarity_score_threshold\", search_kwargs={\"namespace\": USER_1, \"score_threshold\": .9})\n",
        "\n",
        "relevant_documents = retriever.get_relevant_documents(question)\n",
        "relevant_documents"
      ],
      "metadata": {
        "colab": {
          "base_uri": "https://localhost:8080/"
        },
        "id": "SycEh_Y0iO4o",
        "outputId": "63344113-7bc8-409f-973f-9eed1c913808"
      },
      "execution_count": 39,
      "outputs": [
        {
          "output_type": "stream",
          "name": "stderr",
          "text": [
            "/usr/local/lib/python3.10/dist-packages/langchain_core/vectorstores.py:325: UserWarning: No relevant docs were retrieved using the relevance score threshold 0.9\n",
            "  warnings.warn(\n"
          ]
        },
        {
          "output_type": "execute_result",
          "data": {
            "text/plain": [
              "[]"
            ]
          },
          "metadata": {},
          "execution_count": 39
        }
      ]
    },
    {
      "cell_type": "code",
      "source": [
        "retriever = vectorstore.as_retriever(search_type=\"similarity_score_threshold\", search_kwargs={\"namespace\": USER_2, \"score_threshold\": .9})\n",
        "\n",
        "relevant_documents = retriever.get_relevant_documents(question)\n",
        "relevant_documents"
      ],
      "metadata": {
        "colab": {
          "base_uri": "https://localhost:8080/"
        },
        "id": "TqifrjaHa1Fk",
        "outputId": "32d86a35-162e-4fc7-ae5c-3fa50494a837"
      },
      "execution_count": 40,
      "outputs": [
        {
          "output_type": "execute_result",
          "data": {
            "text/plain": [
              "[Document(page_content='Uniswap v3 Core\\nMarch 2021\\nHayden Adams\\nhayden@uniswap.orgNoah Zinsmeister\\nnoah@uniswap.orgMoody Salem\\nmoody@uniswap.org\\nRiver Keefer\\nriver@uniswap.orgDan Robinson\\ndan@paradigm.xyz\\nABSTRACT\\nUniswap v3 is a noncustodial automated market maker imple-\\nmented for the Ethereum Virtual Machine. In comparison to earlier\\nversions of the protocol, Uniswap v3 provides increased capital\\nefficiency and fine-tuned control to liquidity providers, improves\\nthe accuracy and convenience of the price oracle, and has a more\\nflexible fee structure.\\n1 INTRODUCTION\\nAutomated market makers (AMMs) are agents that pool liquidity\\nand make it available to traders according to an algorithm [ 5]. Con-\\nstant function market makers (CFMMs), a broad class of AMMs of\\nwhich Uniswap is a member, have seen widespread use in the con-\\ntext of decentralized finance, where they are typically implemented\\nas smart contracts that trade tokens on a permissionless blockchain\\n[2].\\nCFMMs as they are implemented today are often capital inef-\\nficient. In the constant product market maker formula used by\\nUniswap v1 andv2, only a fraction of the assets in the pool are\\navailable at a given price. This is inefficient, particularly when\\nassets are expected to trade close to a particular price at all times.\\nPrior attempts to address this capital efficiency issue, such as\\nCurve [ 3] and YieldSpace [ 4], have involved building pools that use\\ndifferent functions to describe the relation between reserves. This\\nrequires all liquidity providers in a given pool to adhere to a single\\nformula, and could result in liquidity fragmentation if liquidity\\nproviders want to provide liquidity within different price ranges.In this paper, we present Uniswap v3 , a novel AMM that gives\\nliquidity providers more control over the price ranges in which\\ntheir capital is used, with limited effect on liquidity fragmentation\\nand gas inefficiency. This design does not depend on any shared\\nassumption about the price behavior of the tokens. Uniswap v3\\nis based on the same constant product reserves curve as earlier\\nversions [1], but offers several significant new features:\\n•Concentrated Liquidity : Liquidity providers (LPs) are given\\nthe ability to concentrate their liquidity by “bounding\" it\\nwithin an arbitrary price range. This improves the pool’s\\ncapital efficiency and allows LPs to approximate their pre-\\nferred reserves curve, while still being efficiently aggregated\\nwith the rest of the pool. We describe this feature in section\\n2 and its implementation in Section 6.\\n•Flexible Fees : The swap fee is no longer locked at 0.30%.\\nRather, the fee tier for each pool (of which there can be\\nmultiple per asset pair) is set on initialization (Section 3.1).\\nThe initially supported fee tiers are 0.05%,0.30%, and 1%.\\nUNIgovernance is able to add additional values to this set.\\n•Protocol Fee Governance :UNIgovernance has more flexibility\\nin setting the fraction of swap fees collected by the protocol\\n(Section 6.2.2).\\n•Improved Price Oracle :Uniswap v3 provides a way for users\\nto query recent price accumulator values, thus avoiding the\\nneed to checkpoint the accumulator value at the exact be-\\nginning and end of the period for which a TWAP is being\\nmeasured. (Section 5.1).\\n1', metadata={'page': 0.0, 'source': 'uniswap-v3.pdf'}),\n",
              " Document(page_content='initializable ticks), 0.30%(with a tick spacing of 60, approximately\\n0.60%between initializable ticks), and 1%(with a tick spacing of\\n200, approximately 2.02%between ticks.\\nFinally, UNI governance has the power to transfer ownership to\\nanother address.\\n5 ORACLE UPGRADES\\nUniswap v3 includes three significant changes to the time-weighted\\naverage price (TWAP) oracle that was introduced by Uniswap v2.\\nMost significantly, Uniswap v3 removes the need for users of\\nthe oracle to track previous values of the accumulator externally.\\nUniswap v2 requires users to checkpoint the accumulator value\\nat both the beginning and end of the time period for which they\\n2Specifically, the owner will be initialized to the Timelock contract from UNI gover-\\nnance, 0x1a9c8182c09f50c8318d769245bea52c32be35bc.\\n3', metadata={'page': 2.0, 'source': 'uniswap-v3.pdf'}),\n",
              " Document(page_content='Uniswap v3 Core\\n0 ∞\\nPriceLiquidity\\n(I)Uniswap v2𝑝𝑎 𝑝𝑏\\nPriceLiquidity\\n(II)A single position on [𝑝𝑎, 𝑝𝑏]PriceLiquidity\\n(III) A collection of custom positions\\nFigure 3: Example Liquidity Distributions\\n3 ARCHITECTURAL CHANGES\\nUniswap v3 makes a number of architectural changes, some of\\nwhich are necessitated by the inclusion of concentrated liquidity,\\nand some of which are independent improvements.\\n3.1 Multiple Pools Per Pair\\nInUniswap v1 andv2, every pair of tokens corresponds to a single\\nliquidity pool, which applies a uniform fee of 0.30%to all swaps.\\nWhile this default fee tier historically worked well enough for many\\ntokens, it is likely too high for some pools (such as pools between\\ntwo stablecoins), and too low for others (such as pools that include\\nhighly volatile or rarely traded tokens).\\nUniswap v3 introduces multiple pools for each pair of tokens,\\neach with a different swap fee. All pools are created by the same\\nfactory contract. The factory contract initially allows pools to be\\ncreated at three fee tiers: 0.05%,0.30%, and 1%. Additional fee tiers\\ncan be enabled by UNI governance.\\n3.2 Non-Fungible Liquidity\\n3.2.1 Non-Compounding Fees. Fees earned in earlier versions were\\ncontinuously deposited in the pool as liquidity. This meant that\\nliquidity in the pool would grow over time, even without explicit\\ndeposits, and that fee earnings compounded.\\nInUniswap v3 , due to the non-fungible nature of positions, this\\nis no longer possible. Instead, fee earnings are stored separately\\nand held as the tokens in which the fees are paid (see Section 6.2.2).\\n3.2.2 Removal of Native Liquidity Tokens. InUniswap v1 andv2,\\nthe pool contract is also an ERC-20 token contract, whose tokens\\nrepresent liquidity held in the pool. While this is convenient, it\\nactually sits uneasily with the Uniswap v2 philosophy that any-\\nthing that does not need to be in the core contracts should be in the\\nperiphery, and blessing one “canonical\" ERC-20 implementation\\ndiscourages the creation of improved ERC-20 token wrappers. Ar-\\nguably, the ERC-20 token implementation should have been in the\\nperiphery, as a wrapper on a single liquidity position in the core\\ncontract.\\nThe changes made in Uniswap v3 force this issue by making\\ncompletely fungible liquidity tokens impossible. Due to the custom\\nliquidity provision feature, fees are now collected and held by thepool as individual tokens, rather than automatically reinvested as\\nliquidity in the pool.\\nAs a result, in v3, the pool contract does not implement the\\nERC-20 standard. Anyone can create an ERC-20 token contract in\\nthe periphery that makes a liquidity position more fungible, but\\nit will have to have additional logic to handle distribution of, or\\nreinvestment of, collected fees. Alternatively, anyone could create\\na periphery contract that wraps an individual liquidity position\\n(including collected fees) in an ERC-721 non-fungible token.\\n4 GOVERNANCE\\nThe factory has an owner , which is initially controlled by UNI\\ntokenholders.2The owner does not have the ability to halt the\\noperation of any of the core contracts.\\nAs in Uniswap v2 ,Uniswap v3 has a protocol fee that can be\\nturned on by UNI governance. In Uniswap v3 , UNI governance has\\nmore flexibility in choosing the fraction of swap fees that go to the\\nprotocol, and is able to choose any fraction1\\n𝑁where 4≤𝑁≤10,\\nor0. This parameter can be set on a per-pool basis.\\nUNI governance also has the ability to add additional fee tiers.\\nWhen it adds a new fee tier, it can also define the tickSpacing\\n(see Section 6.1) corresponding to that fee tier. Once a fee tier is\\nadded to the factory, it cannot be removed (and the tickSpacing\\ncannot be changed). The initial fee tiers and tick spacings supported\\nare0.05%(with a tick spacing of 10, approximately 0.10%between\\ninitializable ticks), 0.30%(with a tick spacing of 60, approximately\\n0.60%between initializable ticks), and 1%(with a tick spacing of\\n200, approximately 2.02%between ticks.', metadata={'page': 2.0, 'source': 'uniswap-v3.pdf'}),\n",
              " Document(page_content='Hayden Adams, Noah Zinsmeister, Moody Salem, River Keefer, and Dan Robinson\\n•Liquidity Oracle : The contracts expose a time-weighted av-\\nerage liquidity oracle (Section 5.3).\\nTheUniswap v2 core contracts are non-upgradeable by de-\\nsign, so Uniswap v3 is implemented as an entirely new set of\\ncontracts, available here. The Uniswap v3 core contracts are also\\nnon-upgradeable, with some parameters controlled by governance\\nas described in Section 4.\\n2 CONCENTRATED LIQUIDITY\\nThe defining idea of Uniswap v3 is that of concentrated liquidity :\\nliquidity bounded within some price range.\\nIn earlier versions, liquidity was distributed uniformly along the\\n𝑥·𝑦=𝑘 (2.1)\\nreserves curve, where 𝑥and𝑦are the respective reserves of two\\nassets XandY, and 𝑘is a constant [ 1]. In other words, earlier ver-\\nsions were designed to provide liquidity across the entire price\\nrange(0,∞). This is simple to implement and allows liquidity to\\nbe efficiently aggregated, but means that much of the assets held in\\na pool are never touched.\\nHaving considered this, it seems reasonable to allow LPs to\\nconcentrate their liquidity to smaller price ranges than (0,∞). We\\ncall liquidity concentrated to a finite range a position . A position\\nonly needs to maintain enough reserves to support trading within\\nits range, and therefore can act like a constant product pool with\\nlarger reserves (we call these the virtual reserves ) within that range.\\n𝑎𝑏\\n𝑐𝑦real𝑥real\\nXReservesYReservesvirtual reserves\\nFigure 1: Simulation of Virtual Liquidity\\nSpecifically, a position only needs to hold enough of asset Xto\\ncover price movement to its upper bound, because upwards price\\nmovement1corresponds to depletion of the Xreserves. Similarly,\\nit only needs to hold enough of asset Yto cover price movement\\nto its lower bound. Fig. 1 depicts this relationship for a position on\\na range[𝑝𝑎, 𝑝𝑏]and a current price 𝑝𝑐∈[𝑝𝑎, 𝑝𝑏].𝑥realand𝑦real\\ndenote the position’s real reserves.\\nWhen the price exits a position’s range, the position’s liquidity\\nis no longer active, and no longer earns fees. At that point, its\\n1We take asset Yto be the unit of account, which corresponds to token1 in our\\nimplementation.liquidity is composed entirely of a single asset, because the reserves\\nof the other asset must have been entirely depleted. If the price ever\\nreenters the range, the liquidity becomes active again.\\nThe amount of liquidity provided can be measured by the value\\n𝐿, which is equal to√\\n𝑘. The real reserves of a position are described\\nby the curve:\\n(𝑥+𝐿√𝑝𝑏)(𝑦+𝐿√𝑝𝑎)=𝐿2(2.2)\\nThis curve is a translation of formula 2.1 such that the position is\\nsolvent exactly within its range (Fig. 2).\\n𝑎𝑏\\nXReservesYReservesvirtual reserves (2.1)\\nreal reserves (2.2)\\nFigure 2: Real Reserves\\nLiquidity providers are free to create as many positions as they\\nsee fit, each on its own price range. In this way, LPs can approximate\\nany desired distribution of liquidity on the price space (see Fig. 3\\nfor a few examples). Moreover, this serves as a mechanism to let\\nthe market decide where liquidity should be allocated. Rational LPs\\ncan reduce their capital costs by concentrating their liquidity in\\na narrow band around the current price, and adding or removing\\ntokens as the price moves to keep their liquidity active.\\n2.1 Range Orders\\nPositions on very small ranges act similarly to limit orders—if the\\nrange is crossed, the position flips from being composed entirely\\nof one asset, to being composed entirely of the other asset (plus\\naccrued fees). There are two differences between this range order\\nand a traditional limit order:\\n•There is a limit to how narrow a position’s range can be.\\nWhile the price is within that range, the limit order might\\nbe partially executed.\\n•When the position has been crossed, it needs to be with-\\ndrawn. If it is not, and the price crosses back across that\\nrange, the position will be traded back, effectively reversing\\nthe trade.\\n2', metadata={'page': 1.0, 'source': 'uniswap-v3.pdf'})]"
            ]
          },
          "metadata": {},
          "execution_count": 40
        }
      ]
    },
    {
      "cell_type": "code",
      "source": [
        "retriever = vectorstore.as_retriever(search_type=\"similarity_score_threshold\", search_kwargs={\"namespace\": USER_1, \"score_threshold\": .9})\n",
        "\n",
        "relevant_documents = retriever.get_relevant_documents(\"what are the short-term steps to help streamline billing?\")\n",
        "relevant_documents"
      ],
      "metadata": {
        "colab": {
          "base_uri": "https://localhost:8080/"
        },
        "id": "1Ngz6ohfcklM",
        "outputId": "0a302a2d-3c4d-4fa9-8222-52c1a462d8ee"
      },
      "execution_count": 51,
      "outputs": [
        {
          "output_type": "execute_result",
          "data": {
            "text/plain": [
              "[Document(page_content='Despite the rapid adoption of EHRs, \\nthere has not been a commensurate reduction in fragmentation and automation in the realm of billing.\\nThis is ironic considering that the \\nconventional wisdom among physicians is that billing is the primary purpose of EHRs in the first place. Standards for Application Programming Interfaces (APIs), which allow software from different devices to exchange information securely and efficiently, may help alleviate some inefficiencies in billing. (We’ll discuss APIs further below.) For instance, an API may give a payer access directly to the information it needs to process a claim, rather than having to exchange faxes with the doctor’s office. The change in recent years from transaction-oriented reimbursement schemes, in which health care providers are paid for, and have to document, each act they perform, to those that emphasize the value of health care services to the patient, has lowered the volume of forms and documentation somewhat. Fewer practices are required to document things that they’ve done to get reimbursement.Physicians: Junk the fax machine. Every doctor’s office ought to embrace electronic communications. “For the 30 to 40 percent of American practices that are unwilling to give up the fax machine and are unwilling to receive electronic payments, perhaps there has to be a culture shift,” Gilliland told symposium attendees. Federal and private payers may be able to help in this regard by providing incentives. Even simple changes such as physician practices shifting to a payer’s portal website, rather than insisting on using faxes and paper payments, would create significant efficiencies. \\nPhysicians must start accepting \\nelectronic payments. Many doctors’ offices are reluctant to allow payers to transfer funds electronically for fear that they would also be able to make withdrawals. Payers need to support physician practices. Providing in-kind support to providers in exchange for sharing clinical and claims information would help practices adopt technology. For instance, payers could provide a dashboard back to providers so that they can get analytical insights about their utilization and costs. This would have the added benefit of helping them make the transition to value-based billing.  \\nCreate common standards across \\npayers. If health care insurers and other payers agree on a common set of data and formats, they would greatly reduce the bureaucratic burden on small practices who now must fill out so many different forms. \\nStreamline pre-authorization. \\nDecreasing the hassle and time to process claim pre-authorizations would reduce inefficiencies and \\n2.3.Future of EHR\\n4.Gilliland identified some \\npractical, short-term steps  \\nto help streamline billing: \\n1.\\n5.', metadata={'page': 10.0, 'source': 'electronic-health-records.pdf'}),\n",
              " Document(page_content='to use Epic’s analytics tools to measure \\nproductivity, to find the best workflow that increases the quality of patient care. During the measles outbreak, IT met with the hospital’s lawyers, quality-control personnel, nurses, and infectious disease experts to determine how best to modify EHRs to make them more useful in managing the crisis. The changes took a matter of hours to implement. \\nCentral to the success of Great Hudson \\nValley’s program is making analytics data available to physicians. Since the clinicians helped narrow down the list of priorities, it is important that they are able to access data they need to make appropriate decisions.\\nFor physicians and health care \\norganizations that handle Medicare and Medicaid patients, the federal government is beginning to move away from some of its more onerous requirements for documenting the patient-doctor interaction.\\nIts recent “Patients Over Paperwork”\\ninitiative, announced in June 2018, would consolidate some Medicare fee structures for outpatientvisits, reduce clerical tasks associatedwith coding and billing administration,and allow doctors and otherpractitioners to focus on documentedchanges since the patient’s last visitrather than re-documenting information. The Centers for Medicare and Medicaid Services (CMS) estimates that the new regulations would save nearly 30,000 hours spent on billing administration. If these changes are adopted, they might relieve some of the burden on physicians in the next few years. \\nInefficiencies in Billing \\nand Reimbursement \\nPhysicians and patients alike have their \\nfavorite anecdotes about the problems of the U.S. health care system. Many of these stories center on the process of billing and reimbursement. Terry Gilliland, MD, Senior Vice President and Chief Health Officer at Blue Shield of California, told the Stanford Medicine symposium that overhead for billing transactions accounts for 6 percent of a payer’s costs. One practice reported that it takes a trained registered nurse 45 minutes on average to get insurance pre-authorization for a CT scan. Another practice reported that, over the course of dealing with all of their different payers and care organizations, they are required to fill out 200 different forms. In general, health care billing in the U.S. is characterized by a pervasive fear of technology and inefficiency.\\n“This is an extremely fragmented \\nmanual process that is not benefitting many people, ” says Gilliland. \\nOne problem is a lack of automation \\nof manual processes. About a third of physician practices insist on doing business with paper forms and fax machines. A physician’s office might fill out a claims form on paper and fax it to the payer, who would pay someone to transcribe it into their system. Then the payer will identify information that is missing in the form but is needed to process a claim. The form then gets faxed back to the doctor’s  office, which addends it and faxes it back. The payer then has to pay someone to transcribe the information into the system. These kinds of inefficiencies drive up the cost of transactions. Future of EHR\\nInefficiencies\\nIn Billing and\\nReimbursement\\nOne practice reports it takes a \\ntrained nurse 45 minutes, on \\naverage, to get insurance\\npre-authorization for a CT scan.\\nAnother practice reports that, \\nover the course of dealing with all \\nof their different payers and care \\norganizations, they are required \\nto fill out 200 different forms.', metadata={'page': 9.0, 'source': 'electronic-health-records.pdf'}),\n",
              " Document(page_content='For Medical Practices:  \\nInvest in adequate EHR training when \\nonboarding physicians and bring them up to speed when incremental changes are made;\\nEnlist physicians to help prioritize \\nEHR development tasks and to design clinical workflows that take advantage of EHR capabilities (e.g., the Sprint team model);\\nTailor the size and makeup of \\nphysician development teams, taking into account the clinical resources available;\\nDeliver EHR development projects \\nsoon after physicians ask for them;\\nEstablish an EHR governance process \\nthat gives the clinical organization nimbleness in responding to health emergencies and crisis scenarios;\\nMake analytics data available to \\nphysicians—presented in a way that is intuitive at the point of care;\\nShift non-essential EHR data entry \\nto ancillary staff. In the near term, consider increasing the number of medical assistants to act as “digital scribes” (though this option is expensive). In the long term, seek automated solutions to eliminate manual EHR documentation;Re-evaluate your organization’s interpretation of privacy rules;\\nCreate opportunities for patients \\nto digitally maintain their records (providing family history, medical history, medications, health monitoring data, etc.);\\nJunk the fax machine (if you still \\nhave one) and embrace electronic communications;\\nStart accepting electronic payments, \\nif you don’t already.\\nFor Payers: \\nEHRs are a reflection of the current fee-for-service payment paradigm. Commit to value-based care and provide adequate support to physicians under this model, including greater reimbursement for preventive care services and the use of digital health to engage patients;\\nCreate common standards for billing \\nand quality reporting across payers;\\nStreamline pre-authorization \\nprocedures;\\nMake claims data more accessible to \\nphysicians to enable a longitudinal view of their patients.For Regulators:  \\nAffirm commitment to value-based care and moving away from requiring literal documentation of patient-doctor interactions;\\nCreate more flexibility around who \\nneeds to enter data into the EHR, as many tasks do not require the expertise of a highly trained clinician;\\nClarify information-blocking rules to \\nencourage open APIs and eliminate perverse incentives to hoard information.A Summary  \\nof Action PointsFuture of EHR', metadata={'page': 18.0, 'source': 'electronic-health-records.pdf'})]"
            ]
          },
          "metadata": {},
          "execution_count": 51
        }
      ]
    },
    {
      "cell_type": "code",
      "source": [
        "retriever = vectorstore.as_retriever(search_type=\"similarity_score_threshold\", search_kwargs={\"namespace\": USER_2, \"score_threshold\": .9})\n",
        "\n",
        "relevant_documents = retriever.get_relevant_documents(\"what are the short-term steps to help streamline billing?\")\n",
        "relevant_documents"
      ],
      "metadata": {
        "colab": {
          "base_uri": "https://localhost:8080/"
        },
        "id": "G0FpbA_TclgC",
        "outputId": "9018957d-b1f0-4207-f986-95a8370b58df"
      },
      "execution_count": 52,
      "outputs": [
        {
          "output_type": "stream",
          "name": "stderr",
          "text": [
            "/usr/local/lib/python3.10/dist-packages/langchain_core/vectorstores.py:325: UserWarning: No relevant docs were retrieved using the relevance score threshold 0.9\n",
            "  warnings.warn(\n"
          ]
        },
        {
          "output_type": "execute_result",
          "data": {
            "text/plain": [
              "[]"
            ]
          },
          "metadata": {},
          "execution_count": 52
        }
      ]
    },
    {
      "cell_type": "code",
      "source": [
        "from langchain.chat_models import ChatOpenAI\n",
        "from langchain.embeddings import OpenAIEmbeddings\n",
        "from langchain.prompts import ChatPromptTemplate\n",
        "from langchain_core.output_parsers import StrOutputParser\n",
        "from langchain_core.runnables import RunnablePassthrough\n",
        "\n",
        "def ask_question_by_user(question, user):\n",
        "\n",
        "  retriever = vectorstore.as_retriever(search_type=\"similarity_score_threshold\", search_kwargs={\"namespace\": user, \"score_threshold\": .9})\n",
        "  template = \"\"\"Answer the question based only on the following context which is wrapped by tags [CONTEXT][/CONTEXT]:\n",
        "  [CONTEXT]{context}[/CONTEXT]\n",
        "\n",
        "  If you don't know the answer, or the context is empty, just say that you don't know, don't try to make up an answer.\n",
        "\n",
        "  Question: {question}\n",
        "  \"\"\"\n",
        "  prompt = ChatPromptTemplate.from_template(template)\n",
        "  model = ChatOpenAI()\n",
        "\n",
        "  retrieval_chain = (\n",
        "      {\"context\": retriever, \"question\": RunnablePassthrough()}\n",
        "      | prompt\n",
        "      | model\n",
        "      | StrOutputParser()\n",
        "  )\n",
        "\n",
        "  response = retrieval_chain.invoke(question)\n",
        "  print(response)"
      ],
      "metadata": {
        "id": "051wIoVHd_Mu"
      },
      "execution_count": 53,
      "outputs": []
    },
    {
      "cell_type": "code",
      "source": [
        "ask_question_by_user(\"what are the short-term steps to help streamline billing?\", USER_1)"
      ],
      "metadata": {
        "colab": {
          "base_uri": "https://localhost:8080/"
        },
        "id": "W_mCk-wne_Jt",
        "outputId": "4868a404-9009-4f99-fa43-c19eb9181bf3"
      },
      "execution_count": 61,
      "outputs": [
        {
          "output_type": "stream",
          "name": "stdout",
          "text": [
            "The short-term steps to help streamline billing include:\n",
            "1. Encouraging physician practices to shift to a payer's portal website instead of using faxes and paper payments.\n",
            "2. Encouraging physicians to start accepting electronic payments.\n",
            "3. Providing in-kind support to providers in exchange for sharing clinical and claims information.\n",
            "4. Creating common standards across payers to reduce the bureaucratic burden on small practices.\n",
            "5. Streamlining pre-authorization procedures.\n"
          ]
        }
      ]
    },
    {
      "cell_type": "code",
      "source": [
        "ask_question_by_user(\"what are the short-term steps to help streamline billing?\", USER_2)"
      ],
      "metadata": {
        "colab": {
          "base_uri": "https://localhost:8080/"
        },
        "id": "dAqbP3DrfEEL",
        "outputId": "66346e01-459f-4854-a934-2280b79046f9"
      },
      "execution_count": 62,
      "outputs": [
        {
          "output_type": "stream",
          "name": "stderr",
          "text": [
            "/usr/local/lib/python3.10/dist-packages/langchain_core/vectorstores.py:325: UserWarning: No relevant docs were retrieved using the relevance score threshold 0.9\n",
            "  warnings.warn(\n"
          ]
        },
        {
          "output_type": "stream",
          "name": "stdout",
          "text": [
            "I don't know.\n"
          ]
        }
      ]
    },
    {
      "cell_type": "code",
      "source": [
        "ask_question_by_user(\"what is uniswap?\", USER_1)"
      ],
      "metadata": {
        "colab": {
          "base_uri": "https://localhost:8080/"
        },
        "id": "mhp_AAFQfE3H",
        "outputId": "f31ee1e3-bd64-4f1f-aefc-792abaf9eab1"
      },
      "execution_count": 63,
      "outputs": [
        {
          "output_type": "stream",
          "name": "stderr",
          "text": [
            "/usr/local/lib/python3.10/dist-packages/langchain_core/vectorstores.py:325: UserWarning: No relevant docs were retrieved using the relevance score threshold 0.9\n",
            "  warnings.warn(\n"
          ]
        },
        {
          "output_type": "stream",
          "name": "stdout",
          "text": [
            "I don't know.\n"
          ]
        }
      ]
    },
    {
      "cell_type": "code",
      "source": [
        "ask_question_by_user(\"what is uniswap?\", USER_2)"
      ],
      "metadata": {
        "colab": {
          "base_uri": "https://localhost:8080/"
        },
        "id": "8nr4zBYFfFp6",
        "outputId": "747b4836-35d4-4a5b-a892-1402b3200bad"
      },
      "execution_count": 64,
      "outputs": [
        {
          "output_type": "stream",
          "name": "stdout",
          "text": [
            "Based on the provided context, Uniswap is a noncustodial automated market maker (AMM) implemented for the Ethereum Virtual Machine. It is a protocol that pools liquidity and makes it available to traders according to an algorithm. Uniswap v3, the version described in the context, offers increased capital efficiency, fine-tuned control to liquidity providers, an improved price oracle, and a more flexible fee structure compared to earlier versions.\n"
          ]
        }
      ]
    }
  ]
}